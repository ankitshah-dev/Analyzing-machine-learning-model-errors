{
 "cells": [
  {
   "cell_type": "code",
   "execution_count": 1,
   "metadata": {
    "colab": {
     "base_uri": "https://localhost:8080/"
    },
    "id": "DtJX0GyvRV7b",
    "outputId": "0fb50c72-b3fa-4502-9071-b8b55b5c29af"
   },
   "outputs": [
    {
     "name": "stdout",
     "output_type": "stream",
     "text": [
      "Mounted at /content/drive\n"
     ]
    }
   ],
   "source": [
    "from google.colab import drive\n",
    "drive.mount('/content/drive')"
   ]
  },
  {
   "cell_type": "code",
   "execution_count": 2,
   "metadata": {
    "id": "G-nogRzyRPnF"
   },
   "outputs": [],
   "source": [
    "import gc\n",
    "import os\n",
    "import logging\n",
    "import datetime\n",
    "import warnings\n",
    "import numpy as np\n",
    "import pandas as pd\n",
    "import seaborn as sns\n",
    "import lightgbm as lgb\n",
    "from tqdm import tqdm_notebook\n",
    "import matplotlib.pyplot as plt\n",
    "from sklearn.metrics import mean_squared_error\n",
    "from sklearn.metrics import roc_auc_score, roc_curve\n",
    "from sklearn.model_selection import StratifiedKFold\n",
    "warnings.filterwarnings('ignore')"
   ]
  },
  {
   "cell_type": "code",
   "execution_count": 3,
   "metadata": {
    "colab": {
     "base_uri": "https://localhost:8080/"
    },
    "id": "GDDdXw8mRwrj",
    "outputId": "d2cf544d-f77a-4b17-a6c0-c0d083f2dbda"
   },
   "outputs": [
    {
     "name": "stdout",
     "output_type": "stream",
     "text": [
      "(200000, 402) (200000, 401)\n"
     ]
    }
   ],
   "source": [
    "# load the featurized data\n",
    "train = pd.read_csv(\"/content/drive/MyDrive/datasets/cs2/train_FE.csv\")\n",
    "test = pd.read_csv(\"/content/drive/MyDrive/datasets/cs2/test_FE.csv\")\n",
    "print(train.shape, test.shape)"
   ]
  },
  {
   "cell_type": "code",
   "execution_count": 4,
   "metadata": {
    "id": "IrJvDZzUSRYh"
   },
   "outputs": [],
   "source": [
    "features = [c for c in train.columns if c not in ['ID_code', 'target']]\n",
    "target = train['target']"
   ]
  },
  {
   "cell_type": "markdown",
   "metadata": {
    "id": "s-Y7rAeSwUtX"
   },
   "source": [
    "## 1. LightGBM"
   ]
  },
  {
   "cell_type": "code",
   "execution_count": null,
   "metadata": {
    "id": "ruoglbP2R9lY"
   },
   "outputs": [],
   "source": [
    "# parameters. Credits: https://www.kaggle.com/gpreda/santander-eda-and-prediction\n",
    "param = {\n",
    "    'bagging_freq': 5,\n",
    "    'bagging_fraction': 0.4,\n",
    "    'boost_from_average':'false',\n",
    "    'boost': 'gbdt',\n",
    "    'feature_fraction': 0.05,\n",
    "    'learning_rate': 0.01,\n",
    "    'max_depth': -1,  \n",
    "    'metric':'auc',\n",
    "    'min_data_in_leaf': 80,\n",
    "    'min_sum_hessian_in_leaf': 10.0,\n",
    "    'num_leaves': 13,\n",
    "    'num_threads': 8,\n",
    "    'tree_learner': 'serial',\n",
    "    'objective': 'binary', \n",
    "    'verbosity': 1\n",
    "}"
   ]
  },
  {
   "cell_type": "code",
   "execution_count": null,
   "metadata": {
    "colab": {
     "base_uri": "https://localhost:8080/"
    },
    "id": "kXD-uSIMSFpc",
    "outputId": "1d0d5d17-7d94-4901-fe9d-b51bdde00482",
    "scrolled": true
   },
   "outputs": [
    {
     "name": "stdout",
     "output_type": "stream",
     "text": [
      "Fold 0\n",
      "Training until validation scores don't improve for 3000 rounds.\n",
      "[1000]\ttraining's auc: 0.899134\tvalid_1's auc: 0.879898\n",
      "[2000]\ttraining's auc: 0.91173\tvalid_1's auc: 0.888597\n",
      "[3000]\ttraining's auc: 0.920336\tvalid_1's auc: 0.893847\n",
      "[4000]\ttraining's auc: 0.927006\tvalid_1's auc: 0.897212\n",
      "[5000]\ttraining's auc: 0.932465\tvalid_1's auc: 0.899489\n",
      "[6000]\ttraining's auc: 0.937188\tvalid_1's auc: 0.900843\n",
      "[7000]\ttraining's auc: 0.94147\tvalid_1's auc: 0.901692\n",
      "[8000]\ttraining's auc: 0.945519\tvalid_1's auc: 0.902491\n",
      "[9000]\ttraining's auc: 0.949281\tvalid_1's auc: 0.902723\n",
      "[10000]\ttraining's auc: 0.952842\tvalid_1's auc: 0.903021\n",
      "[11000]\ttraining's auc: 0.956236\tvalid_1's auc: 0.903185\n",
      "[12000]\ttraining's auc: 0.959445\tvalid_1's auc: 0.903102\n",
      "[13000]\ttraining's auc: 0.962417\tvalid_1's auc: 0.903178\n",
      "[14000]\ttraining's auc: 0.965273\tvalid_1's auc: 0.903286\n",
      "Early stopping, best iteration is:\n",
      "[11396]\ttraining's auc: 0.957572\tvalid_1's auc: 0.903366\n",
      "Fold 1\n",
      "Training until validation scores don't improve for 3000 rounds.\n",
      "[1000]\ttraining's auc: 0.898951\tvalid_1's auc: 0.881201\n",
      "[2000]\ttraining's auc: 0.911737\tvalid_1's auc: 0.890119\n",
      "[3000]\ttraining's auc: 0.920388\tvalid_1's auc: 0.895267\n",
      "[4000]\ttraining's auc: 0.926892\tvalid_1's auc: 0.898206\n",
      "[5000]\ttraining's auc: 0.932338\tvalid_1's auc: 0.899942\n",
      "[6000]\ttraining's auc: 0.937113\tvalid_1's auc: 0.900766\n",
      "[7000]\ttraining's auc: 0.941458\tvalid_1's auc: 0.90132\n",
      "[8000]\ttraining's auc: 0.945386\tvalid_1's auc: 0.901751\n",
      "[9000]\ttraining's auc: 0.949148\tvalid_1's auc: 0.901955\n",
      "[10000]\ttraining's auc: 0.9527\tvalid_1's auc: 0.902106\n",
      "[11000]\ttraining's auc: 0.956094\tvalid_1's auc: 0.90224\n",
      "[12000]\ttraining's auc: 0.959243\tvalid_1's auc: 0.902086\n",
      "[13000]\ttraining's auc: 0.962236\tvalid_1's auc: 0.90221\n",
      "Early stopping, best iteration is:\n",
      "[10570]\ttraining's auc: 0.954654\tvalid_1's auc: 0.902308\n",
      "Fold 2\n",
      "Training until validation scores don't improve for 3000 rounds.\n",
      "[1000]\ttraining's auc: 0.900015\tvalid_1's auc: 0.876084\n",
      "[2000]\ttraining's auc: 0.912588\tvalid_1's auc: 0.885242\n",
      "[3000]\ttraining's auc: 0.920957\tvalid_1's auc: 0.890272\n",
      "[4000]\ttraining's auc: 0.927575\tvalid_1's auc: 0.893107\n",
      "[5000]\ttraining's auc: 0.932875\tvalid_1's auc: 0.894718\n",
      "[6000]\ttraining's auc: 0.937596\tvalid_1's auc: 0.895979\n",
      "[7000]\ttraining's auc: 0.941869\tvalid_1's auc: 0.89654\n",
      "[8000]\ttraining's auc: 0.945817\tvalid_1's auc: 0.897023\n",
      "[9000]\ttraining's auc: 0.949576\tvalid_1's auc: 0.897032\n",
      "[10000]\ttraining's auc: 0.953156\tvalid_1's auc: 0.897179\n",
      "[11000]\ttraining's auc: 0.95652\tvalid_1's auc: 0.897301\n",
      "[12000]\ttraining's auc: 0.959664\tvalid_1's auc: 0.897555\n",
      "[13000]\ttraining's auc: 0.962706\tvalid_1's auc: 0.89771\n",
      "[14000]\ttraining's auc: 0.965566\tvalid_1's auc: 0.897722\n",
      "[15000]\ttraining's auc: 0.968259\tvalid_1's auc: 0.89789\n",
      "[17000]\ttraining's auc: 0.973211\tvalid_1's auc: 0.897847\n",
      "[18000]\ttraining's auc: 0.97547\tvalid_1's auc: 0.897875\n",
      "[19000]\ttraining's auc: 0.977593\tvalid_1's auc: 0.897796\n",
      "[20000]\ttraining's auc: 0.979566\tvalid_1's auc: 0.897753\n",
      "Early stopping, best iteration is:\n",
      "[17770]\ttraining's auc: 0.974962\tvalid_1's auc: 0.89798\n",
      "Fold 3\n",
      "Training until validation scores don't improve for 3000 rounds.\n",
      "[1000]\ttraining's auc: 0.898829\tvalid_1's auc: 0.882689\n",
      "[2000]\ttraining's auc: 0.91185\tvalid_1's auc: 0.891464\n",
      "[3000]\ttraining's auc: 0.920372\tvalid_1's auc: 0.896149\n",
      "[4000]\ttraining's auc: 0.927016\tvalid_1's auc: 0.899074\n",
      "[5000]\ttraining's auc: 0.932394\tvalid_1's auc: 0.900746\n",
      "[6000]\ttraining's auc: 0.937198\tvalid_1's auc: 0.901565\n",
      "[7000]\ttraining's auc: 0.941484\tvalid_1's auc: 0.901951\n",
      "[8000]\ttraining's auc: 0.945371\tvalid_1's auc: 0.902326\n",
      "[9000]\ttraining's auc: 0.949111\tvalid_1's auc: 0.902796\n",
      "[10000]\ttraining's auc: 0.952622\tvalid_1's auc: 0.90297\n",
      "[11000]\ttraining's auc: 0.956014\tvalid_1's auc: 0.902675\n",
      "[12000]\ttraining's auc: 0.959208\tvalid_1's auc: 0.902816\n",
      "Early stopping, best iteration is:\n",
      "[9829]\ttraining's auc: 0.952054\tvalid_1's auc: 0.903065\n",
      "Fold 4\n",
      "Training until validation scores don't improve for 3000 rounds.\n",
      "[1000]\ttraining's auc: 0.898744\tvalid_1's auc: 0.881074\n",
      "[2000]\ttraining's auc: 0.911868\tvalid_1's auc: 0.89124\n",
      "[3000]\ttraining's auc: 0.920566\tvalid_1's auc: 0.8965\n",
      "[4000]\ttraining's auc: 0.927255\tvalid_1's auc: 0.899398\n",
      "[5000]\ttraining's auc: 0.93269\tvalid_1's auc: 0.901238\n",
      "[6000]\ttraining's auc: 0.937452\tvalid_1's auc: 0.902023\n",
      "[7000]\ttraining's auc: 0.941704\tvalid_1's auc: 0.902564\n",
      "[8000]\ttraining's auc: 0.945602\tvalid_1's auc: 0.90264\n",
      "[9000]\ttraining's auc: 0.949316\tvalid_1's auc: 0.902698\n",
      "[10000]\ttraining's auc: 0.952828\tvalid_1's auc: 0.902697\n",
      "[11000]\ttraining's auc: 0.956159\tvalid_1's auc: 0.902774\n",
      "[12000]\ttraining's auc: 0.959335\tvalid_1's auc: 0.902779\n",
      "[13000]\ttraining's auc: 0.962358\tvalid_1's auc: 0.902938\n",
      "[14000]\ttraining's auc: 0.965187\tvalid_1's auc: 0.902681\n",
      "Early stopping, best iteration is:\n",
      "[11450]\ttraining's auc: 0.957595\tvalid_1's auc: 0.902949\n",
      "Fold 5\n",
      "Training until validation scores don't improve for 3000 rounds.\n",
      "[1000]\ttraining's auc: 0.898261\tvalid_1's auc: 0.885628\n",
      "[2000]\ttraining's auc: 0.911246\tvalid_1's auc: 0.894595\n",
      "[3000]\ttraining's auc: 0.919987\tvalid_1's auc: 0.89967\n",
      "[4000]\ttraining's auc: 0.926652\tvalid_1's auc: 0.902713\n",
      "[5000]\ttraining's auc: 0.93204\tvalid_1's auc: 0.904447\n",
      "[6000]\ttraining's auc: 0.936781\tvalid_1's auc: 0.905508\n",
      "[7000]\ttraining's auc: 0.941163\tvalid_1's auc: 0.906323\n",
      "[8000]\ttraining's auc: 0.945111\tvalid_1's auc: 0.906736\n",
      "[9000]\ttraining's auc: 0.948873\tvalid_1's auc: 0.906918\n",
      "[10000]\ttraining's auc: 0.952437\tvalid_1's auc: 0.907025\n",
      "[11000]\ttraining's auc: 0.955754\tvalid_1's auc: 0.907097\n",
      "[12000]\ttraining's auc: 0.958932\tvalid_1's auc: 0.907082\n",
      "[13000]\ttraining's auc: 0.961925\tvalid_1's auc: 0.907061\n",
      "[14000]\ttraining's auc: 0.964796\tvalid_1's auc: 0.907007\n",
      "Early stopping, best iteration is:\n",
      "[11337]\ttraining's auc: 0.956852\tvalid_1's auc: 0.907173\n",
      "Fold 6\n",
      "Training until validation scores don't improve for 3000 rounds.\n",
      "[1000]\ttraining's auc: 0.898723\tvalid_1's auc: 0.884079\n",
      "[2000]\ttraining's auc: 0.91168\tvalid_1's auc: 0.893197\n",
      "[3000]\ttraining's auc: 0.920277\tvalid_1's auc: 0.898015\n",
      "[4000]\ttraining's auc: 0.926915\tvalid_1's auc: 0.900569\n",
      "[5000]\ttraining's auc: 0.932317\tvalid_1's auc: 0.901733\n",
      "[6000]\ttraining's auc: 0.937117\tvalid_1's auc: 0.90302\n",
      "[7000]\ttraining's auc: 0.94146\tvalid_1's auc: 0.903594\n",
      "[8000]\ttraining's auc: 0.945453\tvalid_1's auc: 0.903994\n",
      "[9000]\ttraining's auc: 0.949194\tvalid_1's auc: 0.904202\n",
      "[10000]\ttraining's auc: 0.952763\tvalid_1's auc: 0.904257\n",
      "[11000]\ttraining's auc: 0.95613\tvalid_1's auc: 0.904369\n",
      "[12000]\ttraining's auc: 0.959285\tvalid_1's auc: 0.904401\n",
      "[13000]\ttraining's auc: 0.962276\tvalid_1's auc: 0.904581\n",
      "[14000]\ttraining's auc: 0.965107\tvalid_1's auc: 0.904628\n",
      "[15000]\ttraining's auc: 0.967823\tvalid_1's auc: 0.904727\n",
      "[16000]\ttraining's auc: 0.970374\tvalid_1's auc: 0.904618\n",
      "[17000]\ttraining's auc: 0.972794\tvalid_1's auc: 0.904401\n",
      "Early stopping, best iteration is:\n",
      "[14772]\ttraining's auc: 0.967229\tvalid_1's auc: 0.904766\n",
      "Fold 7\n",
      "Training until validation scores don't improve for 3000 rounds.\n",
      "[1000]\ttraining's auc: 0.898656\tvalid_1's auc: 0.879379\n",
      "[2000]\ttraining's auc: 0.911734\tvalid_1's auc: 0.890512\n",
      "[3000]\ttraining's auc: 0.920323\tvalid_1's auc: 0.895685\n",
      "[4000]\ttraining's auc: 0.926911\tvalid_1's auc: 0.899196\n",
      "[5000]\ttraining's auc: 0.932238\tvalid_1's auc: 0.900861\n",
      "[6000]\ttraining's auc: 0.937009\tvalid_1's auc: 0.902019\n",
      "[7000]\ttraining's auc: 0.941354\tvalid_1's auc: 0.902844\n",
      "[8000]\ttraining's auc: 0.945418\tvalid_1's auc: 0.903492\n",
      "[9000]\ttraining's auc: 0.949173\tvalid_1's auc: 0.903935\n",
      "[10000]\ttraining's auc: 0.952699\tvalid_1's auc: 0.903827\n",
      "[11000]\ttraining's auc: 0.956107\tvalid_1's auc: 0.904203\n",
      "[12000]\ttraining's auc: 0.959288\tvalid_1's auc: 0.904191\n",
      "[13000]\ttraining's auc: 0.962275\tvalid_1's auc: 0.9042\n",
      "[14000]\ttraining's auc: 0.965174\tvalid_1's auc: 0.904137\n",
      "[15000]\ttraining's auc: 0.967897\tvalid_1's auc: 0.903841\n",
      "Early stopping, best iteration is:\n",
      "[12118]\ttraining's auc: 0.959659\tvalid_1's auc: 0.904308\n",
      "Fold 8\n",
      "Training until validation scores don't improve for 3000 rounds.\n",
      "[1000]\ttraining's auc: 0.898488\tvalid_1's auc: 0.887759\n",
      "[2000]\ttraining's auc: 0.911411\tvalid_1's auc: 0.897505\n",
      "[3000]\ttraining's auc: 0.920021\tvalid_1's auc: 0.902281\n",
      "[4000]\ttraining's auc: 0.926528\tvalid_1's auc: 0.905266\n",
      "[5000]\ttraining's auc: 0.93195\tvalid_1's auc: 0.906469\n",
      "[6000]\ttraining's auc: 0.936698\tvalid_1's auc: 0.907407\n",
      "[7000]\ttraining's auc: 0.941088\tvalid_1's auc: 0.907761\n",
      "[8000]\ttraining's auc: 0.945144\tvalid_1's auc: 0.908194\n",
      "[9000]\ttraining's auc: 0.94897\tvalid_1's auc: 0.908111\n",
      "[10000]\ttraining's auc: 0.952547\tvalid_1's auc: 0.908327\n",
      "[11000]\ttraining's auc: 0.955919\tvalid_1's auc: 0.908558\n",
      "[12000]\ttraining's auc: 0.959107\tvalid_1's auc: 0.908407\n",
      "[13000]\ttraining's auc: 0.962104\tvalid_1's auc: 0.908437\n",
      "[14000]\ttraining's auc: 0.964991\tvalid_1's auc: 0.908556\n",
      "[15000]\ttraining's auc: 0.967729\tvalid_1's auc: 0.908691\n",
      "[16000]\ttraining's auc: 0.97036\tvalid_1's auc: 0.908389\n",
      "[17000]\ttraining's auc: 0.97277\tvalid_1's auc: 0.908518\n",
      "Early stopping, best iteration is:\n",
      "[14843]\ttraining's auc: 0.96731\tvalid_1's auc: 0.908744\n",
      "Fold 9\n",
      "Training until validation scores don't improve for 3000 rounds.\n",
      "[1000]\ttraining's auc: 0.899335\tvalid_1's auc: 0.882103\n",
      "[2000]\ttraining's auc: 0.911998\tvalid_1's auc: 0.891649\n",
      "[3000]\ttraining's auc: 0.920536\tvalid_1's auc: 0.896007\n",
      "[4000]\ttraining's auc: 0.927101\tvalid_1's auc: 0.899003\n",
      "[5000]\ttraining's auc: 0.932614\tvalid_1's auc: 0.900829\n",
      "[6000]\ttraining's auc: 0.937281\tvalid_1's auc: 0.901844\n",
      "[7000]\ttraining's auc: 0.941589\tvalid_1's auc: 0.902149\n",
      "[8000]\ttraining's auc: 0.945619\tvalid_1's auc: 0.902638\n",
      "[9000]\ttraining's auc: 0.949457\tvalid_1's auc: 0.902896\n",
      "[10000]\ttraining's auc: 0.952964\tvalid_1's auc: 0.902938\n",
      "[11000]\ttraining's auc: 0.956342\tvalid_1's auc: 0.90317\n",
      "[12000]\ttraining's auc: 0.959478\tvalid_1's auc: 0.903203\n",
      "[13000]\ttraining's auc: 0.962429\tvalid_1's auc: 0.903025\n",
      "[14000]\ttraining's auc: 0.965311\tvalid_1's auc: 0.903019\n",
      "[15000]\ttraining's auc: 0.968046\tvalid_1's auc: 0.903063\n",
      "Early stopping, best iteration is:\n",
      "[12062]\ttraining's auc: 0.95969\tvalid_1's auc: 0.90326\n",
      "CV score: 0.90367 \n"
     ]
    }
   ],
   "source": [
    "folds = StratifiedKFold(n_splits=10, shuffle=False, random_state=44000)\n",
    "oof = np.zeros(len(train))\n",
    "predictions = np.zeros(len(test))\n",
    "feature_importance_df = pd.DataFrame()\n",
    "\n",
    "for fold_, (trn_idx, val_idx) in enumerate(folds.split(train.values, target.values)):\n",
    "    print(\"Fold {}\".format(fold_))\n",
    "    trn_data = lgb.Dataset(train.iloc[trn_idx][features], label=target.iloc[trn_idx])\n",
    "    val_data = lgb.Dataset(train.iloc[val_idx][features], label=target.iloc[val_idx])\n",
    "\n",
    "    num_round = 1000000\n",
    "    clf = lgb.train(param, trn_data, num_round, valid_sets = [trn_data, val_data], verbose_eval=1000, early_stopping_rounds = 3000)\n",
    "    oof[val_idx] = clf.predict(train.iloc[val_idx][features], num_iteration=clf.best_iteration)\n",
    "    \n",
    "    fold_importance_df = pd.DataFrame()\n",
    "    fold_importance_df[\"Feature\"] = features\n",
    "    fold_importance_df[\"importance\"] = clf.feature_importance()\n",
    "    fold_importance_df[\"fold\"] = fold_ + 1\n",
    "    feature_importance_df = pd.concat([feature_importance_df, fold_importance_df], axis=0)\n",
    "    \n",
    "    predictions += clf.predict(test[features], num_iteration=clf.best_iteration) / folds.n_splits\n",
    "\n",
    "print(\"CV score: {:<8.5f}\".format(roc_auc_score(target, oof)))"
   ]
  },
  {
   "cell_type": "code",
   "execution_count": null,
   "metadata": {
    "id": "aeyak4IwSe1o"
   },
   "outputs": [],
   "source": [
    "sub_df = pd.DataFrame({\"ID_code\":test[\"ID_code\"].values})\n",
    "sub_df[\"target\"] = predictions\n",
    "sub_df.to_csv(\"/content/drive/MyDrive/datasets/cs2/submission_v1.csv\", index=False)"
   ]
  },
  {
   "cell_type": "markdown",
   "metadata": {
    "id": "R8ugF6Pzwsxg"
   },
   "source": [
    "## Logistic Regression without scaling"
   ]
  },
  {
   "cell_type": "code",
   "execution_count": 5,
   "metadata": {
    "id": "rxkfkUAw4qnr"
   },
   "outputs": [],
   "source": [
    "from sklearn.linear_model import LogisticRegression\n",
    "from sklearn.ensemble import RandomForestClassifier\n",
    "from sklearn.svm import SVC\n",
    "from sklearn.metrics import roc_curve, auc\n",
    "from sklearn.model_selection import RandomizedSearchCV"
   ]
  },
  {
   "cell_type": "code",
   "execution_count": 6,
   "metadata": {
    "id": "ZW-EnEoLyN7d"
   },
   "outputs": [],
   "source": [
    "X = train[features]\n",
    "y = target"
   ]
  },
  {
   "cell_type": "code",
   "execution_count": 7,
   "metadata": {
    "colab": {
     "base_uri": "https://localhost:8080/"
    },
    "id": "9I4g1CFyyVuE",
    "outputId": "0a316c35-0a01-48be-b489-b9decf5fdb08"
   },
   "outputs": [
    {
     "name": "stdout",
     "output_type": "stream",
     "text": [
      "(180000, 400) (20000, 400) (180000,) (20000,)\n"
     ]
    }
   ],
   "source": [
    "# train test split\n",
    "from sklearn.model_selection import train_test_split\n",
    "X_train, X_test, y_train, y_test = train_test_split(X, y, test_size=0.1, stratify=y)\n",
    "print(X_train.shape, X_test.shape, y_train.shape, y_test.shape)"
   ]
  },
  {
   "cell_type": "code",
   "execution_count": null,
   "metadata": {
    "colab": {
     "base_uri": "https://localhost:8080/"
    },
    "id": "6-BuChlcyfqg",
    "outputId": "28886a0a-853e-48b1-f733-e97416a3c3d1"
   },
   "outputs": [
    {
     "name": "stdout",
     "output_type": "stream",
     "text": [
      "Fitting 5 folds for each of 9 candidates, totalling 45 fits\n"
     ]
    },
    {
     "name": "stderr",
     "output_type": "stream",
     "text": [
      "[Parallel(n_jobs=-1)]: Using backend LokyBackend with 2 concurrent workers.\n",
      "[Parallel(n_jobs=-1)]: Done   1 tasks      | elapsed:   26.9s\n",
      "[Parallel(n_jobs=-1)]: Done   4 tasks      | elapsed:   52.9s\n",
      "[Parallel(n_jobs=-1)]: Done   9 tasks      | elapsed:  2.2min\n",
      "[Parallel(n_jobs=-1)]: Done  14 tasks      | elapsed:  3.1min\n",
      "[Parallel(n_jobs=-1)]: Done  21 tasks      | elapsed:  4.8min\n",
      "[Parallel(n_jobs=-1)]: Done  28 tasks      | elapsed:  6.2min\n",
      "[Parallel(n_jobs=-1)]: Done  37 tasks      | elapsed:  8.3min\n",
      "[Parallel(n_jobs=-1)]: Done  45 out of  45 | elapsed: 10.0min finished\n"
     ]
    },
    {
     "name": "stdout",
     "output_type": "stream",
     "text": [
      "Best hyperparameters: {'C': 10}\n"
     ]
    }
   ],
   "source": [
    "# hyperparameter tuning\n",
    "params = {\n",
    "    \"C\": [10 ** x for x in range(-5, 4)]\n",
    "}\n",
    "\n",
    "lr = LogisticRegression(penalty=\"l2\", class_weight={20, 80})\n",
    "clf = RandomizedSearchCV(lr, params, cv=5, scoring='roc_auc', return_train_score=True, n_jobs=-1, verbose=10)\n",
    "clf.fit(np.array(X_train), y_train)\n",
    "\n",
    "results = pd.DataFrame.from_dict(clf.cv_results_)\n",
    "print(\"Best hyperparameters: {}\".format(clf.best_params_))"
   ]
  },
  {
   "cell_type": "code",
   "execution_count": null,
   "metadata": {
    "colab": {
     "base_uri": "https://localhost:8080/",
     "height": 294
    },
    "id": "cye-6Qbx0i42",
    "outputId": "c909db0a-5cc2-4721-e53e-e4bb5a7dc33b"
   },
   "outputs": [
    {
     "data": {
      "image/png": "[encoded data removed]",
      "text/plain": [
       "<Figure size 432x288 with 1 Axes>"
      ]
     },
     "metadata": {},
     "output_type": "display_data"
    }
   ],
   "source": [
    "clf_ = clf.best_estimator_\n",
    "clf_.fit(X_train, y_train)\n",
    "\n",
    "y_train_pred = clf_.predict_proba(X_train) \n",
    "y_test_pred = clf_.predict_proba(X_test)\n",
    "\n",
    "train_fpr, train_tpr, tr_thresholds = roc_curve(y_train, y_train_pred[:, 1])\n",
    "test_fpr, test_tpr, te_thresholds = roc_curve(y_test, y_test_pred[:, 1])\n",
    "\n",
    "plt.plot(train_fpr, train_tpr, label=\"train AUC =\"+str(auc(train_fpr, train_tpr)))\n",
    "plt.plot(test_fpr, test_tpr, label=\"test AUC =\"+str(auc(test_fpr, test_tpr)))\n",
    "plt.legend()\n",
    "plt.xlabel(\"FPR\")\n",
    "plt.ylabel(\"TPR\")\n",
    "plt.title(\"ROC Curve\")\n",
    "plt.grid()\n",
    "plt.show()"
   ]
  },
  {
   "cell_type": "markdown",
   "metadata": {
    "id": "p1jzZ3LU7cPO"
   },
   "source": [
    "## Logistic regression with scaling"
   ]
  },
  {
   "cell_type": "code",
   "execution_count": null,
   "metadata": {
    "colab": {
     "base_uri": "https://localhost:8080/"
    },
    "id": "OX0hquHWCMF4",
    "outputId": "1b7f6334-ffcb-4e6f-e4f7-90d3cafcdaa7"
   },
   "outputs": [
    {
     "name": "stdout",
     "output_type": "stream",
     "text": [
      "(180000, 400) (20000, 400)\n"
     ]
    }
   ],
   "source": [
    "from sklearn.preprocessing import MinMaxScaler\n",
    "\n",
    "scale = MinMaxScaler()\n",
    "X_train_scaled = scale.fit_transform(X_train)\n",
    "X_test_scaled = scale.transform(X_test)\n",
    "print(X_train_scaled.shape, X_test_scaled.shape)"
   ]
  },
  {
   "cell_type": "code",
   "execution_count": null,
   "metadata": {
    "colab": {
     "base_uri": "https://localhost:8080/"
    },
    "id": "fxQ1OYDfEHh4",
    "outputId": "e10b08df-1b48-431e-ea56-5f04bc2b58a1"
   },
   "outputs": [
    {
     "name": "stdout",
     "output_type": "stream",
     "text": [
      "Fitting 5 folds for each of 9 candidates, totalling 45 fits\n"
     ]
    },
    {
     "name": "stderr",
     "output_type": "stream",
     "text": [
      "[Parallel(n_jobs=-1)]: Using backend LokyBackend with 2 concurrent workers.\n",
      "[Parallel(n_jobs=-1)]: Done   1 tasks      | elapsed:    6.6s\n",
      "[Parallel(n_jobs=-1)]: Done   4 tasks      | elapsed:   10.7s\n",
      "[Parallel(n_jobs=-1)]: Done   9 tasks      | elapsed:   25.6s\n",
      "[Parallel(n_jobs=-1)]: Done  14 tasks      | elapsed:   41.1s\n",
      "[Parallel(n_jobs=-1)]: Done  21 tasks      | elapsed:  1.6min\n",
      "[Parallel(n_jobs=-1)]: Done  28 tasks      | elapsed:  2.7min\n",
      "[Parallel(n_jobs=-1)]: Done  37 tasks      | elapsed:  4.0min\n",
      "[Parallel(n_jobs=-1)]: Done  45 out of  45 | elapsed:  5.2min finished\n"
     ]
    },
    {
     "name": "stdout",
     "output_type": "stream",
     "text": [
      "Best hyperparameters: {'C': 0.1}\n"
     ]
    }
   ],
   "source": [
    "# hyperparameter tuning\n",
    "params = {\n",
    "    \"C\": [10 ** x for x in range(-5, 4)]\n",
    "}\n",
    "\n",
    "lr = LogisticRegression(penalty=\"l2\", class_weight={20, 80})\n",
    "clf = RandomizedSearchCV(lr, params, cv=5, scoring='roc_auc', return_train_score=True, n_jobs=-1, verbose=10)\n",
    "clf.fit(np.array(X_train_scaled), y_train)\n",
    "\n",
    "results = pd.DataFrame.from_dict(clf.cv_results_)\n",
    "print(\"Best hyperparameters: {}\".format(clf.best_params_))"
   ]
  },
  {
   "cell_type": "code",
   "execution_count": null,
   "metadata": {
    "colab": {
     "base_uri": "https://localhost:8080/",
     "height": 294
    },
    "id": "OCxY4Vw3EHkX",
    "outputId": "78ad01c1-38ce-47d7-912f-2848478d57e6"
   },
   "outputs": [
    {
     "data": {
      "image/png": "[encoded data removed]",
      "text/plain": [
       "<Figure size 432x288 with 1 Axes>"
      ]
     },
     "metadata": {
      "needs_background": "light"
     },
     "output_type": "display_data"
    }
   ],
   "source": [
    "clf_ = clf.best_estimator_\n",
    "clf_.fit(X_train_scaled, y_train)\n",
    "\n",
    "y_train_pred = clf_.predict_proba(X_train_scaled) \n",
    "y_test_pred = clf_.predict_proba(X_test_scaled)\n",
    "\n",
    "train_fpr, train_tpr, tr_thresholds = roc_curve(y_train, y_train_pred[:, 1])\n",
    "test_fpr, test_tpr, te_thresholds = roc_curve(y_test, y_test_pred[:, 1])\n",
    "\n",
    "plt.plot(train_fpr, train_tpr, label=\"train AUC =\"+str(auc(train_fpr, train_tpr)))\n",
    "plt.plot(test_fpr, test_tpr, label=\"test AUC =\"+str(auc(test_fpr, test_tpr)))\n",
    "plt.legend()\n",
    "plt.xlabel(\"FPR\")\n",
    "plt.ylabel(\"TPR\")\n",
    "plt.title(\"ROC Curve\")\n",
    "plt.grid()\n",
    "plt.show()"
   ]
  },
  {
   "cell_type": "markdown",
   "metadata": {
    "id": "RX1NeINTJg2t"
   },
   "source": [
    "## XGBoost"
   ]
  },
  {
   "cell_type": "code",
   "execution_count": 10,
   "metadata": {
    "id": "exLNCn0cEHv5"
   },
   "outputs": [],
   "source": [
    "import xgboost as xgb\n",
    "# import packages for hyperparameters tuning\n",
    "from hyperopt import STATUS_OK, Trials, fmin, hp, tpe"
   ]
  },
  {
   "cell_type": "code",
   "execution_count": null,
   "metadata": {
    "id": "YFt8teGbT76w"
   },
   "outputs": [],
   "source": [
    "# xgboost hyperparameter tuning\n",
    "space={'max_depth': hp.quniform(\"max_depth\", 3, 18, 1),\n",
    "        'gamma': hp.uniform ('gamma', 1,9),\n",
    "        'reg_alpha' : hp.quniform('reg_alpha', 40,180,1),\n",
    "        'reg_lambda' : hp.uniform('reg_lambda', 0,1),\n",
    "        'colsample_bytree' : hp.uniform('colsample_bytree', 0.5,1),\n",
    "        'min_child_weight' : hp.quniform('min_child_weight', 0, 10, 1),\n",
    "        'n_estimators': 180,\n",
    "        'seed': 0\n",
    "    }"
   ]
  },
  {
   "cell_type": "code",
   "execution_count": null,
   "metadata": {
    "id": "-wJ3WgCeT79g"
   },
   "outputs": [],
   "source": [
    "def objective(space):\n",
    "    clf=xgb.XGBClassifier(\n",
    "                    n_estimators =space['n_estimators'], max_depth = int(space['max_depth']), gamma = space['gamma'],\n",
    "                    reg_alpha = int(space['reg_alpha']),min_child_weight=int(space['min_child_weight']),\n",
    "                    colsample_bytree=int(space['colsample_bytree']))\n",
    "    \n",
    "    evaluation = [( X_train, y_train), ( X_test, y_test)]\n",
    "    \n",
    "    clf.fit(X_train, y_train,\n",
    "            eval_set=evaluation, eval_metric=\"auc\",\n",
    "            early_stopping_rounds=10,verbose=False)\n",
    "    \n",
    "\n",
    "    pred = clf.predict_proba(X_test)\n",
    "    test_fpr, test_tpr, tr_thresholds = roc_curve(y_test, pred[:, 1])\n",
    "    auc_score = auc(test_fpr, test_tpr)\n",
    "    print (\"SCORE:\", auc_score)\n",
    "    return {'loss': -auc_score, 'status': STATUS_OK }"
   ]
  },
  {
   "cell_type": "code",
   "execution_count": null,
   "metadata": {
    "colab": {
     "base_uri": "https://localhost:8080/"
    },
    "id": "QX9LaCmHT7_3",
    "outputId": "c2afa6df-38eb-43e9-a7b6-122800099289"
   },
   "outputs": [
    {
     "name": "stdout",
     "output_type": "stream",
     "text": [
      "SCORE:\n",
      "0.4999166203446359\n",
      "SCORE:\n",
      "0.4999166203446359\n",
      "SCORE:\n",
      "0.5326829996764372\n",
      "SCORE:\n",
      "0.4999166203446359\n",
      "SCORE:\n",
      "0.5319539462221964\n",
      "SCORE:\n",
      "0.5326951955066248\n",
      "SCORE:\n",
      "0.5\n",
      "SCORE:\n",
      "0.4999166203446359\n",
      "SCORE:\n",
      "0.5\n",
      "SCORE:\n",
      "0.5319655198161499\n",
      "SCORE:\n",
      "0.4999166203446359\n",
      "SCORE:\n",
      "0.4999166203446359\n",
      "SCORE:\n",
      "0.5319655198161499\n",
      "SCORE:\n",
      "0.5326951955066248\n",
      "SCORE:\n",
      "0.4999166203446359\n",
      "SCORE:\n",
      "0.5319539462221964\n",
      "SCORE:\n",
      "0.5326951955066248\n",
      "SCORE:\n",
      "0.5319655198161499\n",
      "SCORE:\n",
      "0.4999166203446359\n",
      "SCORE:\n",
      "0.4999166203446359\n",
      "SCORE:\n",
      "0.5326951955066248\n",
      "SCORE:\n",
      "0.5326951955066248\n",
      "SCORE:\n",
      "0.5319655198161499\n",
      "SCORE:\n",
      "0.5326951955066248\n",
      "SCORE:\n",
      "0.7731945055157784\n",
      "SCORE:\n",
      "0.7731801664274514\n",
      "SCORE:\n",
      "0.7735355324544592\n",
      "SCORE:\n",
      "0.7733967599467918\n",
      "SCORE:\n",
      "0.4999166203446359\n",
      "SCORE:\n",
      "0.7730032854073159\n",
      "SCORE:\n",
      "0.5319655198161499\n",
      "SCORE:\n",
      "0.5326951955066248\n",
      "SCORE:\n",
      "0.5326951955066248\n",
      "SCORE:\n",
      "0.5326951955066248\n",
      "SCORE:\n",
      "0.5326951955066248\n",
      "SCORE:\n",
      "0.5319655198161499\n",
      "SCORE:\n",
      "0.5326951955066248\n",
      "SCORE:\n",
      "0.5326951955066248\n",
      "SCORE:\n",
      "0.5326951955066248\n",
      "SCORE:\n",
      "0.4999166203446359\n",
      "SCORE:\n",
      "0.5319655198161499\n",
      "SCORE:\n",
      "0.5\n",
      "SCORE:\n",
      "0.4999166203446359\n",
      "SCORE:\n",
      "0.5326951955066248\n",
      "SCORE:\n",
      "0.5326951955066248\n",
      "SCORE:\n",
      "0.781596022112893\n",
      "SCORE:\n",
      "0.5326829996764372\n",
      "SCORE:\n",
      "0.4999166203446359\n",
      "SCORE:\n",
      "0.5326829996764372\n",
      "SCORE:\n",
      "0.4999166203446359\n",
      "SCORE:\n",
      "0.5319655198161499\n",
      "SCORE:\n",
      "0.5\n",
      "SCORE:\n",
      "0.5326951955066248\n",
      "SCORE:\n",
      "0.4999166203446359\n",
      "SCORE:\n",
      "0.5319655198161499\n",
      "SCORE:\n",
      "0.5326951955066248\n",
      "SCORE:\n",
      "0.5319539462221964\n",
      "SCORE:\n",
      "0.7730909792339027\n",
      "SCORE:\n",
      "0.5\n",
      "SCORE:\n",
      "0.5326951955066248\n",
      "SCORE:\n",
      "0.4999166203446359\n",
      "SCORE:\n",
      "0.5319655198161499\n",
      "SCORE:\n",
      "0.5326951955066248\n",
      "SCORE:\n",
      "0.5326951955066248\n",
      "SCORE:\n",
      "0.7734189115567245\n",
      "SCORE:\n",
      "0.7735518073888479\n",
      "SCORE:\n",
      "0.5326951955066248\n",
      "SCORE:\n",
      "0.7734451146159144\n",
      "SCORE:\n",
      "0.7735121640270023\n",
      "SCORE:\n",
      "0.5326951955066248\n",
      "SCORE:\n",
      "0.5326829996764372\n",
      "SCORE:\n",
      "0.5326829996764372\n",
      "SCORE:\n",
      "0.7731373012646605\n",
      "SCORE:\n",
      "0.5326951955066248\n",
      "SCORE:\n",
      "0.4999166203446359\n",
      "SCORE:\n",
      "0.5326951955066248\n",
      "SCORE:\n",
      "0.5326951955066248\n",
      "SCORE:\n",
      "0.5326951955066248\n",
      "SCORE:\n",
      "0.5319655198161499\n",
      "SCORE:\n",
      "0.5326829996764372\n",
      "SCORE:\n",
      "0.5326951955066248\n",
      "SCORE:\n",
      "0.7718391228958046\n",
      "SCORE:\n",
      "0.4999166203446359\n",
      "SCORE:\n",
      "0.7742173097823832\n",
      "SCORE:\n",
      "0.5319655198161499\n",
      "SCORE:\n",
      "0.5326951955066248\n",
      "SCORE:\n",
      "0.5326829996764372\n",
      "SCORE:\n",
      "0.5326951955066248\n",
      "SCORE:\n",
      "0.5326829996764372\n",
      "SCORE:\n",
      "0.5326951955066248\n",
      "SCORE:\n",
      "0.5326951955066248\n",
      "SCORE:\n",
      "0.4999166203446359\n",
      "SCORE:\n",
      "0.5319655198161499\n",
      "SCORE:\n",
      "0.5319655198161499\n",
      "SCORE:\n",
      "0.5326951955066248\n",
      "SCORE:\n",
      "0.4999166203446359\n",
      "SCORE:\n",
      "0.7735650817618412\n",
      "SCORE:\n",
      "0.5326829996764372\n",
      "SCORE:\n",
      "0.4999166203446359\n",
      "SCORE:\n",
      "0.5326829996764372\n",
      "100%|██████████| 100/100 [52:12<00:00, 31.33s/it, best loss: -0.781596022112893]\n"
     ]
    }
   ],
   "source": [
    "trials = Trials()\n",
    "\n",
    "best_hyperparams = fmin(fn = objective,\n",
    "                        space = space,\n",
    "                        algo = tpe.suggest,\n",
    "                        max_evals = 100,\n",
    "                        trials = trials)"
   ]
  },
  {
   "cell_type": "code",
   "execution_count": null,
   "metadata": {
    "colab": {
     "base_uri": "https://localhost:8080/"
    },
    "id": "akv1nTa3T8GT",
    "outputId": "161f673e-7669-4313-8ef4-e01f4454218c"
   },
   "outputs": [
    {
     "name": "stdout",
     "output_type": "stream",
     "text": [
      "The best hyperparameters are :  \n",
      "\n",
      "{'colsample_bytree': 0.7122987011494589, 'gamma': 1.3885551115613475, 'max_depth': 7.0, 'min_child_weight': 7.0, 'reg_alpha': 41.0, 'reg_lambda': 0.7437661970104388}\n"
     ]
    }
   ],
   "source": [
    "print(\"The best hyperparameters are : \",\"\\n\")\n",
    "print(best_hyperparams)"
   ]
  },
  {
   "cell_type": "code",
   "execution_count": 25,
   "metadata": {
    "id": "DJRGU9xyNCbi"
   },
   "outputs": [],
   "source": [
    "# xgboost training using the best parameters found above\n",
    "clf_ = xgb.XGBClassifier(colsample_bytree= 0.7122987011494589, gamma= 1.3885551115613475, \n",
    "                        max_depth= 7, min_child_weight= 7, reg_alpha= 41, reg_lambda= 0.7437661970104388, n_estimators= 180)"
   ]
  },
  {
   "cell_type": "code",
   "execution_count": 26,
   "metadata": {
    "colab": {
     "base_uri": "https://localhost:8080/"
    },
    "id": "USL9YtAqNCeS",
    "outputId": "a563f091-5a25-49d4-b9b9-8724f73ad94b"
   },
   "outputs": [
    {
     "name": "stdout",
     "output_type": "stream",
     "text": [
      "[0]\tvalidation_0-auc:0.634155\tvalidation_1-auc:0.634128\n",
      "Multiple eval metrics have been passed: 'validation_1-auc' will be used for early stopping.\n",
      "\n",
      "Will train until validation_1-auc hasn't improved in 10 rounds.\n",
      "[1]\tvalidation_0-auc:0.674455\tvalidation_1-auc:0.658181\n",
      "[2]\tvalidation_0-auc:0.69663\tvalidation_1-auc:0.678412\n",
      "[3]\tvalidation_0-auc:0.70907\tvalidation_1-auc:0.690961\n",
      "[4]\tvalidation_0-auc:0.719747\tvalidation_1-auc:0.701494\n",
      "[5]\tvalidation_0-auc:0.728995\tvalidation_1-auc:0.709687\n",
      "[6]\tvalidation_0-auc:0.745767\tvalidation_1-auc:0.722856\n",
      "[7]\tvalidation_0-auc:0.753414\tvalidation_1-auc:0.728992\n",
      "[8]\tvalidation_0-auc:0.763208\tvalidation_1-auc:0.736191\n",
      "[9]\tvalidation_0-auc:0.769644\tvalidation_1-auc:0.743198\n",
      "[10]\tvalidation_0-auc:0.772364\tvalidation_1-auc:0.74532\n",
      "[11]\tvalidation_0-auc:0.776233\tvalidation_1-auc:0.749499\n",
      "[12]\tvalidation_0-auc:0.778331\tvalidation_1-auc:0.751392\n",
      "[13]\tvalidation_0-auc:0.783167\tvalidation_1-auc:0.756165\n",
      "[14]\tvalidation_0-auc:0.787397\tvalidation_1-auc:0.758745\n",
      "[15]\tvalidation_0-auc:0.791752\tvalidation_1-auc:0.761865\n",
      "[16]\tvalidation_0-auc:0.797348\tvalidation_1-auc:0.767257\n",
      "[17]\tvalidation_0-auc:0.80101\tvalidation_1-auc:0.770293\n",
      "[18]\tvalidation_0-auc:0.804511\tvalidation_1-auc:0.772855\n",
      "[19]\tvalidation_0-auc:0.807629\tvalidation_1-auc:0.775203\n",
      "[20]\tvalidation_0-auc:0.810759\tvalidation_1-auc:0.777927\n",
      "[21]\tvalidation_0-auc:0.815663\tvalidation_1-auc:0.782318\n",
      "[22]\tvalidation_0-auc:0.818576\tvalidation_1-auc:0.784784\n",
      "[23]\tvalidation_0-auc:0.821683\tvalidation_1-auc:0.78757\n",
      "[24]\tvalidation_0-auc:0.825912\tvalidation_1-auc:0.791493\n",
      "[25]\tvalidation_0-auc:0.82896\tvalidation_1-auc:0.793835\n",
      "[26]\tvalidation_0-auc:0.832311\tvalidation_1-auc:0.796286\n",
      "[27]\tvalidation_0-auc:0.834477\tvalidation_1-auc:0.798119\n",
      "[28]\tvalidation_0-auc:0.837423\tvalidation_1-auc:0.800371\n",
      "[29]\tvalidation_0-auc:0.840724\tvalidation_1-auc:0.802193\n",
      "[30]\tvalidation_0-auc:0.842835\tvalidation_1-auc:0.802759\n",
      "[31]\tvalidation_0-auc:0.844814\tvalidation_1-auc:0.803515\n",
      "[32]\tvalidation_0-auc:0.847588\tvalidation_1-auc:0.806038\n",
      "[33]\tvalidation_0-auc:0.850585\tvalidation_1-auc:0.809359\n",
      "[34]\tvalidation_0-auc:0.852806\tvalidation_1-auc:0.810209\n",
      "[35]\tvalidation_0-auc:0.854779\tvalidation_1-auc:0.811551\n",
      "[36]\tvalidation_0-auc:0.856389\tvalidation_1-auc:0.812884\n",
      "[37]\tvalidation_0-auc:0.859316\tvalidation_1-auc:0.814377\n",
      "[38]\tvalidation_0-auc:0.861016\tvalidation_1-auc:0.815599\n",
      "[39]\tvalidation_0-auc:0.863806\tvalidation_1-auc:0.817576\n",
      "[40]\tvalidation_0-auc:0.865836\tvalidation_1-auc:0.819692\n",
      "[41]\tvalidation_0-auc:0.867213\tvalidation_1-auc:0.821562\n",
      "[42]\tvalidation_0-auc:0.868453\tvalidation_1-auc:0.822572\n",
      "[43]\tvalidation_0-auc:0.870249\tvalidation_1-auc:0.824091\n",
      "[45]\tvalidation_0-auc:0.874088\tvalidation_1-auc:0.826413\n",
      "[46]\tvalidation_0-auc:0.874998\tvalidation_1-auc:0.826962\n",
      "[47]\tvalidation_0-auc:0.876375\tvalidation_1-auc:0.828272\n",
      "[48]\tvalidation_0-auc:0.877338\tvalidation_1-auc:0.828489\n",
      "[49]\tvalidation_0-auc:0.87854\tvalidation_1-auc:0.829427\n",
      "[50]\tvalidation_0-auc:0.87992\tvalidation_1-auc:0.830785\n",
      "[51]\tvalidation_0-auc:0.880787\tvalidation_1-auc:0.831576\n",
      "[52]\tvalidation_0-auc:0.883188\tvalidation_1-auc:0.833581\n",
      "[53]\tvalidation_0-auc:0.88411\tvalidation_1-auc:0.833984\n",
      "[54]\tvalidation_0-auc:0.885603\tvalidation_1-auc:0.835448\n",
      "[55]\tvalidation_0-auc:0.886722\tvalidation_1-auc:0.836428\n",
      "[56]\tvalidation_0-auc:0.888115\tvalidation_1-auc:0.837335\n",
      "[57]\tvalidation_0-auc:0.889579\tvalidation_1-auc:0.838468\n",
      "[58]\tvalidation_0-auc:0.890911\tvalidation_1-auc:0.839573\n",
      "[59]\tvalidation_0-auc:0.89228\tvalidation_1-auc:0.840666\n",
      "[60]\tvalidation_0-auc:0.893797\tvalidation_1-auc:0.841908\n",
      "[61]\tvalidation_0-auc:0.894996\tvalidation_1-auc:0.842672\n",
      "[62]\tvalidation_0-auc:0.896234\tvalidation_1-auc:0.843367\n",
      "[63]\tvalidation_0-auc:0.896967\tvalidation_1-auc:0.844254\n",
      "[64]\tvalidation_0-auc:0.897827\tvalidation_1-auc:0.845152\n",
      "[65]\tvalidation_0-auc:0.899187\tvalidation_1-auc:0.845946\n",
      "[66]\tvalidation_0-auc:0.89987\tvalidation_1-auc:0.846231\n",
      "[67]\tvalidation_0-auc:0.90058\tvalidation_1-auc:0.846479\n",
      "[68]\tvalidation_0-auc:0.901655\tvalidation_1-auc:0.84714\n",
      "[69]\tvalidation_0-auc:0.902383\tvalidation_1-auc:0.847398\n",
      "[70]\tvalidation_0-auc:0.903193\tvalidation_1-auc:0.84816\n",
      "[71]\tvalidation_0-auc:0.903677\tvalidation_1-auc:0.848655\n",
      "[72]\tvalidation_0-auc:0.90462\tvalidation_1-auc:0.849353\n",
      "[73]\tvalidation_0-auc:0.905473\tvalidation_1-auc:0.850366\n",
      "[74]\tvalidation_0-auc:0.906463\tvalidation_1-auc:0.850954\n",
      "[75]\tvalidation_0-auc:0.907281\tvalidation_1-auc:0.851595\n",
      "[76]\tvalidation_0-auc:0.908217\tvalidation_1-auc:0.852503\n",
      "[77]\tvalidation_0-auc:0.908741\tvalidation_1-auc:0.852938\n",
      "[78]\tvalidation_0-auc:0.909544\tvalidation_1-auc:0.85366\n",
      "[79]\tvalidation_0-auc:0.910132\tvalidation_1-auc:0.853953\n",
      "[80]\tvalidation_0-auc:0.911071\tvalidation_1-auc:0.854009\n",
      "[81]\tvalidation_0-auc:0.911834\tvalidation_1-auc:0.854715\n",
      "[82]\tvalidation_0-auc:0.912285\tvalidation_1-auc:0.854733\n",
      "[83]\tvalidation_0-auc:0.912927\tvalidation_1-auc:0.854756\n",
      "[84]\tvalidation_0-auc:0.913703\tvalidation_1-auc:0.854969\n",
      "[85]\tvalidation_0-auc:0.914335\tvalidation_1-auc:0.855667\n",
      "[86]\tvalidation_0-auc:0.914932\tvalidation_1-auc:0.856567\n",
      "[87]\tvalidation_0-auc:0.915811\tvalidation_1-auc:0.857388\n",
      "[88]\tvalidation_0-auc:0.916445\tvalidation_1-auc:0.857854\n",
      "[89]\tvalidation_0-auc:0.916975\tvalidation_1-auc:0.858191\n",
      "[90]\tvalidation_0-auc:0.917639\tvalidation_1-auc:0.858794\n",
      "[91]\tvalidation_0-auc:0.918135\tvalidation_1-auc:0.858945\n",
      "[92]\tvalidation_0-auc:0.918799\tvalidation_1-auc:0.859563\n",
      "[93]\tvalidation_0-auc:0.91933\tvalidation_1-auc:0.860037\n",
      "[94]\tvalidation_0-auc:0.919446\tvalidation_1-auc:0.860311\n",
      "[95]\tvalidation_0-auc:0.920047\tvalidation_1-auc:0.860579\n",
      "[96]\tvalidation_0-auc:0.920645\tvalidation_1-auc:0.861154\n",
      "[97]\tvalidation_0-auc:0.921232\tvalidation_1-auc:0.861484\n",
      "[98]\tvalidation_0-auc:0.921443\tvalidation_1-auc:0.861734\n",
      "[99]\tvalidation_0-auc:0.921873\tvalidation_1-auc:0.862187\n",
      "[100]\tvalidation_0-auc:0.922201\tvalidation_1-auc:0.862627\n",
      "[101]\tvalidation_0-auc:0.922703\tvalidation_1-auc:0.863196\n",
      "[102]\tvalidation_0-auc:0.923174\tvalidation_1-auc:0.863591\n",
      "[103]\tvalidation_0-auc:0.923651\tvalidation_1-auc:0.863891\n",
      "[104]\tvalidation_0-auc:0.92422\tvalidation_1-auc:0.864349\n",
      "[105]\tvalidation_0-auc:0.924553\tvalidation_1-auc:0.864718\n",
      "[106]\tvalidation_0-auc:0.925064\tvalidation_1-auc:0.865245\n",
      "[107]\tvalidation_0-auc:0.925508\tvalidation_1-auc:0.865478\n",
      "[108]\tvalidation_0-auc:0.925773\tvalidation_1-auc:0.865756\n",
      "[109]\tvalidation_0-auc:0.926386\tvalidation_1-auc:0.866113\n",
      "[110]\tvalidation_0-auc:0.926657\tvalidation_1-auc:0.866357\n",
      "[111]\tvalidation_0-auc:0.927238\tvalidation_1-auc:0.866675\n",
      "[112]\tvalidation_0-auc:0.927764\tvalidation_1-auc:0.866774\n",
      "[113]\tvalidation_0-auc:0.928212\tvalidation_1-auc:0.866849\n",
      "[114]\tvalidation_0-auc:0.928501\tvalidation_1-auc:0.867061\n",
      "[115]\tvalidation_0-auc:0.92913\tvalidation_1-auc:0.867469\n",
      "[116]\tvalidation_0-auc:0.929478\tvalidation_1-auc:0.867623\n",
      "[117]\tvalidation_0-auc:0.929883\tvalidation_1-auc:0.867847\n",
      "[118]\tvalidation_0-auc:0.930281\tvalidation_1-auc:0.867821\n",
      "[119]\tvalidation_0-auc:0.930527\tvalidation_1-auc:0.868254\n",
      "[120]\tvalidation_0-auc:0.930993\tvalidation_1-auc:0.86855\n",
      "[121]\tvalidation_0-auc:0.931488\tvalidation_1-auc:0.868588\n",
      "[122]\tvalidation_0-auc:0.931809\tvalidation_1-auc:0.868892\n",
      "[123]\tvalidation_0-auc:0.932138\tvalidation_1-auc:0.869397\n",
      "[124]\tvalidation_0-auc:0.932565\tvalidation_1-auc:0.869689\n",
      "[125]\tvalidation_0-auc:0.932665\tvalidation_1-auc:0.86982\n",
      "[126]\tvalidation_0-auc:0.932835\tvalidation_1-auc:0.870298\n",
      "[127]\tvalidation_0-auc:0.933349\tvalidation_1-auc:0.870765\n",
      "[128]\tvalidation_0-auc:0.933728\tvalidation_1-auc:0.870715\n",
      "[129]\tvalidation_0-auc:0.934139\tvalidation_1-auc:0.870949\n",
      "[130]\tvalidation_0-auc:0.9344\tvalidation_1-auc:0.871134\n",
      "[131]\tvalidation_0-auc:0.934718\tvalidation_1-auc:0.871356\n",
      "[132]\tvalidation_0-auc:0.934942\tvalidation_1-auc:0.871649\n",
      "[133]\tvalidation_0-auc:0.935247\tvalidation_1-auc:0.87178\n",
      "[134]\tvalidation_0-auc:0.935321\tvalidation_1-auc:0.871906\n",
      "[135]\tvalidation_0-auc:0.93562\tvalidation_1-auc:0.872032\n",
      "[136]\tvalidation_0-auc:0.93589\tvalidation_1-auc:0.872261\n",
      "[137]\tvalidation_0-auc:0.935946\tvalidation_1-auc:0.872556\n",
      "[138]\tvalidation_0-auc:0.936214\tvalidation_1-auc:0.873033\n",
      "[139]\tvalidation_0-auc:0.936432\tvalidation_1-auc:0.873344\n",
      "[140]\tvalidation_0-auc:0.936668\tvalidation_1-auc:0.873384\n",
      "[141]\tvalidation_0-auc:0.937021\tvalidation_1-auc:0.873675\n",
      "[142]\tvalidation_0-auc:0.937305\tvalidation_1-auc:0.873724\n",
      "[143]\tvalidation_0-auc:0.937611\tvalidation_1-auc:0.874014\n",
      "[144]\tvalidation_0-auc:0.937733\tvalidation_1-auc:0.874046\n",
      "[145]\tvalidation_0-auc:0.938076\tvalidation_1-auc:0.874113\n",
      "[146]\tvalidation_0-auc:0.938341\tvalidation_1-auc:0.874342\n",
      "[147]\tvalidation_0-auc:0.938645\tvalidation_1-auc:0.874513\n",
      "[148]\tvalidation_0-auc:0.938843\tvalidation_1-auc:0.874593\n",
      "[149]\tvalidation_0-auc:0.939136\tvalidation_1-auc:0.8749\n",
      "[150]\tvalidation_0-auc:0.939294\tvalidation_1-auc:0.875113\n",
      "[151]\tvalidation_0-auc:0.939544\tvalidation_1-auc:0.87508\n",
      "[152]\tvalidation_0-auc:0.939814\tvalidation_1-auc:0.87532\n",
      "[153]\tvalidation_0-auc:0.9401\tvalidation_1-auc:0.875513\n",
      "[154]\tvalidation_0-auc:0.940299\tvalidation_1-auc:0.875701\n",
      "[155]\tvalidation_0-auc:0.940529\tvalidation_1-auc:0.875796\n",
      "[156]\tvalidation_0-auc:0.940853\tvalidation_1-auc:0.875991\n",
      "[157]\tvalidation_0-auc:0.941084\tvalidation_1-auc:0.876265\n",
      "[158]\tvalidation_0-auc:0.941385\tvalidation_1-auc:0.876227\n",
      "[159]\tvalidation_0-auc:0.941525\tvalidation_1-auc:0.876429\n",
      "[160]\tvalidation_0-auc:0.941743\tvalidation_1-auc:0.876747\n",
      "[161]\tvalidation_0-auc:0.941966\tvalidation_1-auc:0.877016\n",
      "[162]\tvalidation_0-auc:0.942216\tvalidation_1-auc:0.87724\n",
      "[163]\tvalidation_0-auc:0.94251\tvalidation_1-auc:0.877238\n",
      "[164]\tvalidation_0-auc:0.942727\tvalidation_1-auc:0.877414\n",
      "[165]\tvalidation_0-auc:0.942925\tvalidation_1-auc:0.877509\n",
      "[166]\tvalidation_0-auc:0.943069\tvalidation_1-auc:0.877539\n",
      "[167]\tvalidation_0-auc:0.943298\tvalidation_1-auc:0.877634\n",
      "[168]\tvalidation_0-auc:0.943373\tvalidation_1-auc:0.877821\n",
      "[169]\tvalidation_0-auc:0.943608\tvalidation_1-auc:0.87791\n",
      "[170]\tvalidation_0-auc:0.943798\tvalidation_1-auc:0.878199\n",
      "[171]\tvalidation_0-auc:0.943985\tvalidation_1-auc:0.878278\n",
      "[172]\tvalidation_0-auc:0.944266\tvalidation_1-auc:0.878461\n",
      "[173]\tvalidation_0-auc:0.944526\tvalidation_1-auc:0.878625\n",
      "[174]\tvalidation_0-auc:0.944734\tvalidation_1-auc:0.878898\n",
      "[175]\tvalidation_0-auc:0.944883\tvalidation_1-auc:0.879037\n",
      "[176]\tvalidation_0-auc:0.944973\tvalidation_1-auc:0.879023\n",
      "[177]\tvalidation_0-auc:0.945042\tvalidation_1-auc:0.879346\n",
      "[178]\tvalidation_0-auc:0.945201\tvalidation_1-auc:0.879394\n",
      "[179]\tvalidation_0-auc:0.945303\tvalidation_1-auc:0.879528\n"
     ]
    },
    {
     "data": {
      "text/plain": [
       "XGBClassifier(base_score=0.5, booster='gbtree', colsample_bylevel=1,\n",
       "              colsample_bynode=1, colsample_bytree=0.7122987011494589,\n",
       "              gamma=1.3885551115613475, learning_rate=0.1, max_delta_step=0,\n",
       "              max_depth=7, min_child_weight=7, missing=None, n_estimators=180,\n",
       "              n_jobs=1, nthread=None, objective='binary:logistic',\n",
       "              random_state=0, reg_alpha=41, reg_lambda=0.7437661970104388,\n",
       "              scale_pos_weight=1, seed=None, silent=None, subsample=1,\n",
       "              verbosity=1)"
      ]
     },
     "execution_count": 26,
     "metadata": {},
     "output_type": "execute_result"
    }
   ],
   "source": [
    "evaluation = [( X_train, y_train), ( X_test, y_test)]\n",
    "    \n",
    "clf_.fit(X_train, y_train,\n",
    "        eval_set=evaluation, eval_metric=\"auc\",\n",
    "        early_stopping_rounds=10,verbose=True)"
   ]
  },
  {
   "cell_type": "code",
   "execution_count": 27,
   "metadata": {
    "colab": {
     "base_uri": "https://localhost:8080/"
    },
    "id": "vgN-S-frNCu0",
    "outputId": "da55b25d-9f35-49e2-84f7-a6861387d056"
   },
   "outputs": [
    {
     "data": {
      "text/plain": [
       "179"
      ]
     },
     "execution_count": 27,
     "metadata": {},
     "output_type": "execute_result"
    }
   ],
   "source": [
    "print(clf_.best_iteration)\n",
    "predictions = clf_.predict(test[features])"
   ]
  },
  {
   "cell_type": "markdown",
   "metadata": {
    "id": "5AO2BFL6iTMm"
   },
   "source": [
    "## Final Conclusion\n",
    "\n",
    "![image.png](data:image/png;base64,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)\n",
    "\n",
    "### As we can see above LGBM performs the best amongst other model expirements."
   ]
  },
  {
   "cell_type": "markdown",
   "metadata": {
    "id": "zCmMAW3jjgdo"
   },
   "source": [
    "## With the scoring of LGBM i managed to get into the top 10% of the scores for this competition. Screenshot below\n",
    "\n",
    "## Top score was 0.92573\n",
    "\n",
    "![image.png](data:image/png;base64,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)\n",
    "\n"
   ]
  }
 ],
 "metadata": {
  "colab": {
   "collapsed_sections": [],
   "name": "02. ML Modelling.ipynb",
   "provenance": []
  },
  "kernelspec": {
   "display_name": "Python 3",
   "language": "python",
   "name": "python3"
  },
  "language_info": {
   "codemirror_mode": {
    "name": "ipython",
    "version": 3
   },
   "file_extension": ".py",
   "mimetype": "text/x-python",
   "name": "python",
   "nbconvert_exporter": "python",
   "pygments_lexer": "ipython3",
   "version": "3.9.2"
  }
 },
 "nbformat": 4,
 "nbformat_minor": 1
}
